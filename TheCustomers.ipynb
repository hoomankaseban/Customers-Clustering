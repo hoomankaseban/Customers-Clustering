{
 "cells": [
  {
   "cell_type": "markdown",
   "id": "4dae2cc4",
   "metadata": {},
   "source": [
    "# Costumers Clusters\n",
    "## Author : HoomanKaseban ( Mr.Programmer)"
   ]
  },
  {
   "cell_type": "markdown",
   "id": "a0a8bf76",
   "metadata": {},
   "source": [
    "#### In this project, we are going to categorize the store's customers into different clusters based on their spending score"
   ]
  },
  {
   "cell_type": "markdown",
   "id": "1453c694",
   "metadata": {},
   "source": [
    "# Import Libraries"
   ]
  },
  {
   "cell_type": "code",
   "execution_count": 1,
   "id": "17820ae6",
   "metadata": {},
   "outputs": [],
   "source": [
    "import pandas as pd\n",
    "import numpy as np\n",
    "import matplotlib.pylab as plt\n",
    "%matplotlib inline"
   ]
  },
  {
   "cell_type": "markdown",
   "id": "ebaafdd7",
   "metadata": {},
   "source": [
    "# Read The Csv File"
   ]
  },
  {
   "cell_type": "markdown",
   "id": "0ed2c344",
   "metadata": {},
   "source": [
    "### This File Contains the information of  customers of a shop\n",
    "<ul>\n",
    "    <li> <i>First Column : </i><b>CustomerID :</b>\n",
    "        <i style=\"color:red;font-family:arial;font-weight:bold\">We use ID to anonymize people's names</i>\n",
    "    </li>\n",
    "    <li><i>Second Column : </i><b>Gender :</b>\n",
    "        <i style=\"color:red;font-family:arial;font-weight:bold\">Customer's gender</i>\n",
    "    </li>\n",
    "    <li><i>Third Column : </i><b>Age :</b>\n",
    "        <i style=\"color:red;font-family:arial;font-weight:bold\">Customer's age</i>\n",
    "    </li>\n",
    "    <li><i>Forth Column : </i><b>Annual Income :</b>\n",
    "        <i style=\"color:red;font-family:arial;font-weight:bold\">Customer's annual income</i>\n",
    "    </li>\n",
    "    <li><i>Fifth Column : </i><b>Spending Score (1-100) :</b>\n",
    "        <i style=\"color:red;font-family:arial;font-weight:bold\">The score given by the seller based on customer's purchases</i>\n",
    "    </li>\n",
    "</ul>"
   ]
  },
  {
   "cell_type": "code",
   "execution_count": 2,
   "id": "491c7275",
   "metadata": {},
   "outputs": [
    {
     "data": {
      "text/html": [
       "<div>\n",
       "<style scoped>\n",
       "    .dataframe tbody tr th:only-of-type {\n",
       "        vertical-align: middle;\n",
       "    }\n",
       "\n",
       "    .dataframe tbody tr th {\n",
       "        vertical-align: top;\n",
       "    }\n",
       "\n",
       "    .dataframe thead th {\n",
       "        text-align: right;\n",
       "    }\n",
       "</style>\n",
       "<table border=\"1\" class=\"dataframe\">\n",
       "  <thead>\n",
       "    <tr style=\"text-align: right;\">\n",
       "      <th></th>\n",
       "      <th>CustomerID</th>\n",
       "      <th>Gender</th>\n",
       "      <th>Age</th>\n",
       "      <th>Annual Income (k$)</th>\n",
       "      <th>Spending Score (1-100)</th>\n",
       "    </tr>\n",
       "  </thead>\n",
       "  <tbody>\n",
       "    <tr>\n",
       "      <th>0</th>\n",
       "      <td>1</td>\n",
       "      <td>Male</td>\n",
       "      <td>19</td>\n",
       "      <td>15</td>\n",
       "      <td>39</td>\n",
       "    </tr>\n",
       "    <tr>\n",
       "      <th>1</th>\n",
       "      <td>2</td>\n",
       "      <td>Male</td>\n",
       "      <td>21</td>\n",
       "      <td>15</td>\n",
       "      <td>81</td>\n",
       "    </tr>\n",
       "    <tr>\n",
       "      <th>2</th>\n",
       "      <td>3</td>\n",
       "      <td>Female</td>\n",
       "      <td>20</td>\n",
       "      <td>16</td>\n",
       "      <td>6</td>\n",
       "    </tr>\n",
       "    <tr>\n",
       "      <th>3</th>\n",
       "      <td>4</td>\n",
       "      <td>Female</td>\n",
       "      <td>23</td>\n",
       "      <td>16</td>\n",
       "      <td>77</td>\n",
       "    </tr>\n",
       "    <tr>\n",
       "      <th>4</th>\n",
       "      <td>5</td>\n",
       "      <td>Female</td>\n",
       "      <td>31</td>\n",
       "      <td>17</td>\n",
       "      <td>40</td>\n",
       "    </tr>\n",
       "  </tbody>\n",
       "</table>\n",
       "</div>"
      ],
      "text/plain": [
       "   CustomerID  Gender  Age  Annual Income (k$)  Spending Score (1-100)\n",
       "0           1    Male   19                  15                      39\n",
       "1           2    Male   21                  15                      81\n",
       "2           3  Female   20                  16                       6\n",
       "3           4  Female   23                  16                      77\n",
       "4           5  Female   31                  17                      40"
      ]
     },
     "execution_count": 2,
     "metadata": {},
     "output_type": "execute_result"
    }
   ],
   "source": [
    "df_main=pd.read_csv('1632560262896716.csv')\n",
    "df_main.head()"
   ]
  },
  {
   "cell_type": "markdown",
   "id": "50cfb728",
   "metadata": {},
   "source": [
    "# Create Costumized DataFrame\n",
    "### We don't need ID & Gender (it's useless)"
   ]
  },
  {
   "cell_type": "code",
   "execution_count": 3,
   "id": "c500a5a8",
   "metadata": {},
   "outputs": [
    {
     "data": {
      "text/html": [
       "<div>\n",
       "<style scoped>\n",
       "    .dataframe tbody tr th:only-of-type {\n",
       "        vertical-align: middle;\n",
       "    }\n",
       "\n",
       "    .dataframe tbody tr th {\n",
       "        vertical-align: top;\n",
       "    }\n",
       "\n",
       "    .dataframe thead th {\n",
       "        text-align: right;\n",
       "    }\n",
       "</style>\n",
       "<table border=\"1\" class=\"dataframe\">\n",
       "  <thead>\n",
       "    <tr style=\"text-align: right;\">\n",
       "      <th></th>\n",
       "      <th>Age</th>\n",
       "      <th>Annual Income (k$)</th>\n",
       "      <th>Spending Score (1-100)</th>\n",
       "    </tr>\n",
       "  </thead>\n",
       "  <tbody>\n",
       "    <tr>\n",
       "      <th>0</th>\n",
       "      <td>19</td>\n",
       "      <td>15</td>\n",
       "      <td>39</td>\n",
       "    </tr>\n",
       "    <tr>\n",
       "      <th>1</th>\n",
       "      <td>21</td>\n",
       "      <td>15</td>\n",
       "      <td>81</td>\n",
       "    </tr>\n",
       "    <tr>\n",
       "      <th>2</th>\n",
       "      <td>20</td>\n",
       "      <td>16</td>\n",
       "      <td>6</td>\n",
       "    </tr>\n",
       "    <tr>\n",
       "      <th>3</th>\n",
       "      <td>23</td>\n",
       "      <td>16</td>\n",
       "      <td>77</td>\n",
       "    </tr>\n",
       "    <tr>\n",
       "      <th>4</th>\n",
       "      <td>31</td>\n",
       "      <td>17</td>\n",
       "      <td>40</td>\n",
       "    </tr>\n",
       "  </tbody>\n",
       "</table>\n",
       "</div>"
      ],
      "text/plain": [
       "   Age  Annual Income (k$)  Spending Score (1-100)\n",
       "0   19                  15                      39\n",
       "1   21                  15                      81\n",
       "2   20                  16                       6\n",
       "3   23                  16                      77\n",
       "4   31                  17                      40"
      ]
     },
     "execution_count": 3,
     "metadata": {},
     "output_type": "execute_result"
    }
   ],
   "source": [
    "df=df_main[['Age','Annual Income (k$)','Spending Score (1-100)']]\n",
    "df.head()"
   ]
  },
  {
   "cell_type": "markdown",
   "id": "039fa008",
   "metadata": {},
   "source": [
    "# Cleaning The Rows That Have NaN Column ( If Exist ! )"
   ]
  },
  {
   "cell_type": "code",
   "execution_count": 4,
   "id": "afda34ba",
   "metadata": {},
   "outputs": [
    {
     "data": {
      "text/plain": [
       "(200, 3)"
      ]
     },
     "execution_count": 4,
     "metadata": {},
     "output_type": "execute_result"
    }
   ],
   "source": [
    "df.shape"
   ]
  },
  {
   "cell_type": "code",
   "execution_count": 5,
   "id": "8cb1ea33",
   "metadata": {},
   "outputs": [
    {
     "name": "stderr",
     "output_type": "stream",
     "text": [
      "C:\\Users\\Mr.Programmer\\AppData\\Local\\Temp\\ipykernel_7808\\1379821321.py:1: SettingWithCopyWarning: \n",
      "A value is trying to be set on a copy of a slice from a DataFrame\n",
      "\n",
      "See the caveats in the documentation: https://pandas.pydata.org/pandas-docs/stable/user_guide/indexing.html#returning-a-view-versus-a-copy\n",
      "  df.dropna(inplace=True)\n"
     ]
    }
   ],
   "source": [
    "df.dropna(inplace=True)"
   ]
  },
  {
   "cell_type": "code",
   "execution_count": 6,
   "id": "6ec46364",
   "metadata": {},
   "outputs": [
    {
     "data": {
      "text/plain": [
       "(200, 3)"
      ]
     },
     "execution_count": 6,
     "metadata": {},
     "output_type": "execute_result"
    }
   ],
   "source": [
    "df.shape"
   ]
  },
  {
   "cell_type": "markdown",
   "id": "d0fb4c8d",
   "metadata": {},
   "source": [
    "# Convert PandasDF to NumpyAR"
   ]
  },
  {
   "cell_type": "code",
   "execution_count": 7,
   "id": "1dfa7150",
   "metadata": {},
   "outputs": [
    {
     "data": {
      "text/plain": [
       "array([[19, 15, 39],\n",
       "       [21, 15, 81],\n",
       "       [20, 16,  6]], dtype=int64)"
      ]
     },
     "execution_count": 7,
     "metadata": {},
     "output_type": "execute_result"
    }
   ],
   "source": [
    "x=np.asanyarray(df)\n",
    "x[:3]"
   ]
  },
  {
   "cell_type": "markdown",
   "id": "aaf0bc1d",
   "metadata": {},
   "source": [
    "# Normalizing Datas"
   ]
  },
  {
   "cell_type": "code",
   "execution_count": 8,
   "id": "8870937d",
   "metadata": {},
   "outputs": [],
   "source": [
    "from sklearn.preprocessing import StandardScaler"
   ]
  },
  {
   "cell_type": "code",
   "execution_count": 9,
   "id": "0e53cd3e",
   "metadata": {},
   "outputs": [
    {
     "data": {
      "text/plain": [
       "array([[-1.42456879, -1.73899919, -0.43480148],\n",
       "       [-1.28103541, -1.73899919,  1.19570407],\n",
       "       [-1.3528021 , -1.70082976, -1.71591298]])"
      ]
     },
     "execution_count": 9,
     "metadata": {},
     "output_type": "execute_result"
    }
   ],
   "source": [
    "scaler=StandardScaler().fit(x)\n",
    "norm=scaler.transform(x)\n",
    "norm[:3]"
   ]
  },
  {
   "cell_type": "markdown",
   "id": "6814af85",
   "metadata": {},
   "source": [
    "# \n",
    "# \n",
    "# **** Machine Learning ***"
   ]
  },
  {
   "cell_type": "markdown",
   "id": "daa6018e",
   "metadata": {},
   "source": [
    "# \n",
    "# Clustering with K-Means (For this project,it's the BEST way)"
   ]
  },
  {
   "cell_type": "code",
   "execution_count": 10,
   "id": "6172ae4f",
   "metadata": {},
   "outputs": [],
   "source": [
    "# import the main tools\n",
    "from sklearn.cluster import KMeans as km\n",
    "from sklearn import preprocessing as prp"
   ]
  },
  {
   "cell_type": "markdown",
   "id": "224affcd",
   "metadata": {},
   "source": [
    "# Use Elbow Method to Find The Best K\n",
    "<p style=\"color:blue;font-family:timesnewroman;font-size:17pt;font-weight:bold\">\n",
    "    The \"Elbow Method\" is a well-known method for finding the best k in K-Means\n",
    "</p>\n",
    "<a href='https://predictivehacks.com/k-means-elbow-method-code-for-python/#:~:text=K-Means%20is%20an%20unsupervised,optimal%20for%20the%20specific%20case' target='blank'><br>Click to Get more Informations!</a>"
   ]
  },
  {
   "cell_type": "code",
   "execution_count": 11,
   "id": "778f9e7f",
   "metadata": {},
   "outputs": [
    {
     "name": "stderr",
     "output_type": "stream",
     "text": [
      "C:\\Users\\Mr.Programmer\\anaconda3\\lib\\site-packages\\sklearn\\cluster\\_kmeans.py:1036: UserWarning: KMeans is known to have a memory leak on Windows with MKL, when there are less chunks than available threads. You can avoid it by setting the environment variable OMP_NUM_THREADS=1.\n",
      "  warnings.warn(\n"
     ]
    },
    {
     "data": {
      "text/plain": [
       "[600.0,\n",
       " 389.3861889564371,\n",
       " 295.45624492135573,\n",
       " 205.22514747675922,\n",
       " 168.24758017556837,\n",
       " 133.86842085478852,\n",
       " 117.17517978708025,\n",
       " 104.02116700198584,\n",
       " 92.2664773736451]"
      ]
     },
     "execution_count": 11,
     "metadata": {},
     "output_type": "execute_result"
    }
   ],
   "source": [
    "#Get the Distortions Matrix to use in elbow plot!\n",
    "distortions=[]\n",
    "K=range(1,10)\n",
    "for k in K:\n",
    "    kmeanmodel=km(n_clusters=k)\n",
    "    kmeanmodel.fit(norm)\n",
    "    distortions.append(kmeanmodel.inertia_)\n",
    "distortions"
   ]
  },
  {
   "cell_type": "code",
   "execution_count": 12,
   "id": "97e5050d",
   "metadata": {},
   "outputs": [
    {
     "data": {
      "image/png": "[encoded data removed]",
      "text/plain": [
       "<Figure size 648x576 with 1 Axes>"
      ]
     },
     "metadata": {
      "needs_background": "light"
     },
     "output_type": "display_data"
    }
   ],
   "source": [
    "#Ploting Distortions-K and find the elobw\n",
    "plt.figure(figsize=(9,8))\n",
    "plt.plot(K,distortions,'bx-')\n",
    "plt.xlabel('K')\n",
    "plt.ylabel('Distortions')\n",
    "plt.show()"
   ]
  },
  {
   "cell_type": "markdown",
   "id": "190baed5",
   "metadata": {},
   "source": [
    "### English Description\n",
    "## As shown in the Plot, we reach the elbow in K=4\n",
    "## and we can guess with high accuracy that the best number of clusters is 4.\n",
    "### Persian Description\n",
    "## همانطور که در نمودار مشخص است است در همسایگی برابر با 4 به آرنج می رسیم و میتوانیم\n",
    "## حدس با دقت بالایی بزنیم که بهترین تعداد کلاستر ، 4 عدد است\n",
    "# \n",
    "# \n",
    "# Modeling"
   ]
  },
  {
   "cell_type": "code",
   "execution_count": 13,
   "id": "fa87b6f4",
   "metadata": {},
   "outputs": [
    {
     "name": "stdout",
     "output_type": "stream",
     "text": [
      "[0 0 0 0 0 0 3 0 3 0 3 0 3 0 3 0 0 0 3 0 0 0 3 0 3 0 3 0 3 0 3 0 3 0 3 0 3\n",
      " 0 3 0 3 0 3 0 3 0 3 0 0 0 3 0 0 3 3 3 3 3 0 3 3 0 3 3 3 0 3 3 0 0 3 3 3 3\n",
      " 3 0 3 3 0 3 3 0 3 3 0 3 3 0 0 3 3 0 3 3 0 0 3 0 3 0 0 3 3 0 3 0 3 3 3 3 3\n",
      " 0 1 0 0 0 3 3 3 3 0 1 2 2 1 2 1 2 3 2 1 2 1 2 1 2 1 2 1 2 1 2 1 2 1 2 1 2\n",
      " 1 2 1 2 1 2 1 2 1 2 1 2 3 2 1 2 1 2 1 2 1 2 1 2 1 2 1 2 1 2 1 2 1 2 1 2 1\n",
      " 2 1 2 1 2 1 2 1 2 1 2 1 2 1 2]\n"
     ]
    }
   ],
   "source": [
    "knum=4 #number of cluaters\n",
    "# create model\n",
    "kmean=km(init='k-means++',n_clusters=knum,n_init=10)\n",
    "kmean.fit(norm)\n",
    "labels=kmean.labels_\n",
    "# get overview of labels\n",
    "print(labels)"
   ]
  },
  {
   "cell_type": "markdown",
   "id": "c5034f62",
   "metadata": {},
   "source": [
    "### Find The Center of Clusters"
   ]
  },
  {
   "cell_type": "code",
   "execution_count": 14,
   "id": "784e76d8",
   "metadata": {},
   "outputs": [
    {
     "data": {
      "text/plain": [
       "array([[-0.96249203, -0.78476346,  0.39202966],\n",
       "       [ 0.03720536,  0.99011499, -1.18875705],\n",
       "       [-0.42880597,  0.97484722,  1.21608539],\n",
       "       [ 1.08616125, -0.49056525, -0.39717443]])"
      ]
     },
     "execution_count": 14,
     "metadata": {},
     "output_type": "execute_result"
    }
   ],
   "source": [
    "centers=kmean.cluster_centers_\n",
    "centers"
   ]
  },
  {
   "cell_type": "markdown",
   "id": "e725c214",
   "metadata": {},
   "source": [
    "## Create Column of K-Mean Model's Label"
   ]
  },
  {
   "cell_type": "code",
   "execution_count": 15,
   "id": "5f426d4d",
   "metadata": {},
   "outputs": [
    {
     "name": "stderr",
     "output_type": "stream",
     "text": [
      "C:\\Users\\Mr.Programmer\\AppData\\Local\\Temp\\ipykernel_7808\\3778044142.py:1: SettingWithCopyWarning: \n",
      "A value is trying to be set on a copy of a slice from a DataFrame.\n",
      "Try using .loc[row_indexer,col_indexer] = value instead\n",
      "\n",
      "See the caveats in the documentation: https://pandas.pydata.org/pandas-docs/stable/user_guide/indexing.html#returning-a-view-versus-a-copy\n",
      "  df['K-means Label']=labels\n"
     ]
    },
    {
     "data": {
      "text/html": [
       "<div>\n",
       "<style scoped>\n",
       "    .dataframe tbody tr th:only-of-type {\n",
       "        vertical-align: middle;\n",
       "    }\n",
       "\n",
       "    .dataframe tbody tr th {\n",
       "        vertical-align: top;\n",
       "    }\n",
       "\n",
       "    .dataframe thead th {\n",
       "        text-align: right;\n",
       "    }\n",
       "</style>\n",
       "<table border=\"1\" class=\"dataframe\">\n",
       "  <thead>\n",
       "    <tr style=\"text-align: right;\">\n",
       "      <th></th>\n",
       "      <th>Age</th>\n",
       "      <th>Annual Income (k$)</th>\n",
       "      <th>Spending Score (1-100)</th>\n",
       "      <th>K-means Label</th>\n",
       "    </tr>\n",
       "  </thead>\n",
       "  <tbody>\n",
       "    <tr>\n",
       "      <th>0</th>\n",
       "      <td>19</td>\n",
       "      <td>15</td>\n",
       "      <td>39</td>\n",
       "      <td>0</td>\n",
       "    </tr>\n",
       "    <tr>\n",
       "      <th>1</th>\n",
       "      <td>21</td>\n",
       "      <td>15</td>\n",
       "      <td>81</td>\n",
       "      <td>0</td>\n",
       "    </tr>\n",
       "    <tr>\n",
       "      <th>2</th>\n",
       "      <td>20</td>\n",
       "      <td>16</td>\n",
       "      <td>6</td>\n",
       "      <td>0</td>\n",
       "    </tr>\n",
       "    <tr>\n",
       "      <th>3</th>\n",
       "      <td>23</td>\n",
       "      <td>16</td>\n",
       "      <td>77</td>\n",
       "      <td>0</td>\n",
       "    </tr>\n",
       "    <tr>\n",
       "      <th>4</th>\n",
       "      <td>31</td>\n",
       "      <td>17</td>\n",
       "      <td>40</td>\n",
       "      <td>0</td>\n",
       "    </tr>\n",
       "  </tbody>\n",
       "</table>\n",
       "</div>"
      ],
      "text/plain": [
       "   Age  Annual Income (k$)  Spending Score (1-100)  K-means Label\n",
       "0   19                  15                      39              0\n",
       "1   21                  15                      81              0\n",
       "2   20                  16                       6              0\n",
       "3   23                  16                      77              0\n",
       "4   31                  17                      40              0"
      ]
     },
     "execution_count": 15,
     "metadata": {},
     "output_type": "execute_result"
    }
   ],
   "source": [
    "df['K-means Label']=labels\n",
    "df.head()"
   ]
  },
  {
   "cell_type": "markdown",
   "id": "a6cb45b7",
   "metadata": {},
   "source": [
    "## Get the approximate Information of centers"
   ]
  },
  {
   "cell_type": "code",
   "execution_count": 16,
   "id": "425d41d0",
   "metadata": {},
   "outputs": [
    {
     "data": {
      "text/html": [
       "<div>\n",
       "<style scoped>\n",
       "    .dataframe tbody tr th:only-of-type {\n",
       "        vertical-align: middle;\n",
       "    }\n",
       "\n",
       "    .dataframe tbody tr th {\n",
       "        vertical-align: top;\n",
       "    }\n",
       "\n",
       "    .dataframe thead th {\n",
       "        text-align: right;\n",
       "    }\n",
       "</style>\n",
       "<table border=\"1\" class=\"dataframe\">\n",
       "  <thead>\n",
       "    <tr style=\"text-align: right;\">\n",
       "      <th></th>\n",
       "      <th>Age</th>\n",
       "      <th>Annual Income (k$)</th>\n",
       "      <th>Spending Score (1-100)</th>\n",
       "    </tr>\n",
       "    <tr>\n",
       "      <th>K-means Label</th>\n",
       "      <th></th>\n",
       "      <th></th>\n",
       "      <th></th>\n",
       "    </tr>\n",
       "  </thead>\n",
       "  <tbody>\n",
       "    <tr>\n",
       "      <th>0</th>\n",
       "      <td>25.438596</td>\n",
       "      <td>40.000000</td>\n",
       "      <td>60.298246</td>\n",
       "    </tr>\n",
       "    <tr>\n",
       "      <th>1</th>\n",
       "      <td>39.368421</td>\n",
       "      <td>86.500000</td>\n",
       "      <td>19.578947</td>\n",
       "    </tr>\n",
       "    <tr>\n",
       "      <th>2</th>\n",
       "      <td>32.875000</td>\n",
       "      <td>86.100000</td>\n",
       "      <td>81.525000</td>\n",
       "    </tr>\n",
       "    <tr>\n",
       "      <th>3</th>\n",
       "      <td>53.984615</td>\n",
       "      <td>47.707692</td>\n",
       "      <td>39.969231</td>\n",
       "    </tr>\n",
       "  </tbody>\n",
       "</table>\n",
       "</div>"
      ],
      "text/plain": [
       "                     Age  Annual Income (k$)  Spending Score (1-100)\n",
       "K-means Label                                                       \n",
       "0              25.438596           40.000000               60.298246\n",
       "1              39.368421           86.500000               19.578947\n",
       "2              32.875000           86.100000               81.525000\n",
       "3              53.984615           47.707692               39.969231"
      ]
     },
     "execution_count": 16,
     "metadata": {},
     "output_type": "execute_result"
    }
   ],
   "source": [
    "df.groupby('K-means Label').mean()"
   ]
  },
  {
   "cell_type": "markdown",
   "id": "baa76d93",
   "metadata": {},
   "source": [
    "# Describe Labels:\n",
    "\n",
    "### English Description\n",
    "### We clustered our data into 4 clusters\n",
    "## Cluster 0: young people with low income and average to high spending score\n",
    "## Cluster 2: Adults with high income and excellent spending score\n",
    "## Cluster 3: middle-aged with high income and very low spending score\n",
    "## Cluster 1: Elderly people with low income and average to low spending score\n",
    "## Approximate conclusion\n",
    "<p style='color:red;font-weight:bold'> It can be generally assumed that people under the age of 35, who are generally single, have a high spending score with any income level.</p>\n",
    "<br>\n",
    "<p style='color:red;font-weight:bold'>And on the other hand, people over 35 years old, who are generally married, do not have a good spending score with any level of income.</p>\n",
    "\n",
    "\n",
    "#  \n",
    "### Persian Description\n",
    "### ما دیتای خود را به 4 خوشه ، خوشه بندی کردیم\n",
    "## خوشه 0 : جوانان با درآمد پایین و نمره خرج کرد متوسط به بالا\n",
    "## خوشه 2 : بزرگسالان با درآمد بالا و نمره خرج کرد عالی\n",
    "## خوشه 3 : میانسالان با درآمد بالا و نمره خرج کرد خیلی پایین\n",
    "## خوشه 1 : افراد مسن با درآمد پایین و نمره خرج کرد متوسط به پایین \n",
    "<p style='color:red;font-weight:bold;font-size:15pt'>می توان به طور کلی حدس زد که افراد زیر 35 سال که عموما مجرد هستند، با هرسطح درآمدی نمره خرج کرد بالا دارند\n",
    "</p>\n",
    "<br>\n",
    "<p style='color:red;font-weight:bold;font-size:15pt'>و در مقابل افراد بالای 35 سال که عموما متاهل هستند ، با هرسطح در آمدی نمره خرج کرد خوبی ندارند\n",
    "</p>"
   ]
  },
  {
   "cell_type": "markdown",
   "id": "12d87e6c",
   "metadata": {},
   "source": [
    "# \n",
    "# \n",
    "# \n",
    "# Create The Plot"
   ]
  },
  {
   "cell_type": "code",
   "execution_count": 17,
   "id": "943aead8",
   "metadata": {},
   "outputs": [
    {
     "data": {
      "image/png": "[encoded data removed]",
      "text/plain": [
       "<Figure size 864x576 with 1 Axes>"
      ]
     },
     "metadata": {
      "needs_background": "light"
     },
     "output_type": "display_data"
    }
   ],
   "source": [
    "plt.figure(figsize=(12,8))\n",
    "\n",
    "# we use 'area' to highlight the persons who have higher income\n",
    "area=np.pi*(x[:,1]**2)\n",
    "\n",
    "# Create Age-Score Plot\n",
    "plt.scatter(x[:,0],x[:,2],s=area/300,c=labels.astype(float),alpha=0.7)\n",
    "\n",
    "plt.xlabel('Age',fontsize=16)\n",
    "plt.ylabel('Score',fontsize=16)\n",
    "plt.show()"
   ]
  },
  {
   "cell_type": "markdown",
   "id": "1d095811",
   "metadata": {},
   "source": [
    "# Plot Describe:\n",
    "### English Description\n",
    "## It can be seen in the Plot that most of the high spending scores were given to people under 30 years old (excluding income!)\n",
    "## Between the ages of 30 and 50, the scores of spending are average and low\n",
    "## People aged 50 and above also mostly have average spending scores\n",
    "## Of course, there is a defect in the diagram: the problem of mixing two clusters between the ages of 40 and 60.\n",
    "### But In general, the clustering is done well\n",
    "# \n",
    "### Persian Description\n",
    "## می شود در نمودار دید که اکثر نمرات خرج کرد بالا به افراد زیر 30 سال تعلق گرفته (فارغ از درآمد!)\n",
    "## بین سنین 30 تا 50 سالگی نمرات خرج کرد متوسط و پایین است\n",
    "## افراد با سنین 50 به بالا نیز بیشتر دارای نمرات متوسط خرج کرد می شوند\n",
    "## البته نقصی در نمودار به چشم می آید :  مشکل قاطی شدن دو کلاستر در سن 40 تا 60 \n",
    "### میتوان به طور کلی گفت که کلاسترینگ خوب انجام شده "
   ]
  },
  {
   "cell_type": "markdown",
   "id": "3c3ae812",
   "metadata": {},
   "source": [
    "# \n",
    "# \n",
    "# \n",
    "# Create 3D Plot\n",
    "## Get a better and more accurate view of the Clusters"
   ]
  },
  {
   "cell_type": "code",
   "execution_count": 18,
   "id": "3cd09a1c",
   "metadata": {},
   "outputs": [
    {
     "name": "stderr",
     "output_type": "stream",
     "text": [
      "C:\\Users\\Mr.Programmer\\AppData\\Local\\Temp\\ipykernel_7808\\1922838910.py:4: MatplotlibDeprecationWarning: Axes3D(fig) adding itself to the figure is deprecated since 3.4. Pass the keyword argument auto_add_to_figure=False and use fig.add_axes(ax) to suppress this warning. The default value of auto_add_to_figure will change to False in mpl3.5 and True values will no longer work in 3.6.  This is consistent with other Axes classes.\n",
      "  ax=d3(fig,rect=[0,0,1,1],elev=20,azim=200)\n"
     ]
    },
    {
     "data": {
      "image/png": "[encoded data removed]",
      "text/plain": [
       "<Figure size 576x432 with 1 Axes>"
      ]
     },
     "metadata": {
      "needs_background": "light"
     },
     "output_type": "display_data"
    }
   ],
   "source": [
    "from mpl_toolkits.mplot3d import Axes3D as d3\n",
    "fig=plt.figure(1,figsize=(8,6))\n",
    "plt.clf()\n",
    "ax=d3(fig,rect=[0,0,1,1],elev=20,azim=200)\n",
    "plt.cla()\n",
    "ax.set_xlabel('Age')\n",
    "ax.set_ylabel('Score')\n",
    "ax.set_zlabel('Income')\n",
    "ax.scatter(x[:,0],x[:,2],x[:,1],c=labels.astype(float))\n",
    "plt.show()"
   ]
  },
  {
   "cell_type": "markdown",
   "id": "9782be3c",
   "metadata": {},
   "source": [
    "## Author : HoomanKaseban\n",
    "#### Note:All this project is built and planned by Hooman Kaseban. No piece of code has been taken from any site or person.\n",
    "#### Credit:All credits of this code are for Hooman Kaseban and are free for public use.\n",
    "# The END"
   ]
  }
 ],
 "metadata": {
  "kernelspec": {
   "display_name": "Python 3 (ipykernel)",
   "language": "python",
   "name": "python3"
  },
  "language_info": {
   "codemirror_mode": {
    "name": "ipython",
    "version": 3
   },
   "file_extension": ".py",
   "mimetype": "text/x-python",
   "name": "python",
   "nbconvert_exporter": "python",
   "pygments_lexer": "ipython3",
   "version": "3.9.12"
  }
 },
 "nbformat": 4,
 "nbformat_minor": 5
}
